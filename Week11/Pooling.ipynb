{
  "nbformat": 4,
  "nbformat_minor": 0,
  "metadata": {
    "colab": {
      "name": "Pooling.ipynb",
      "provenance": [],
      "include_colab_link": true
    },
    "kernelspec": {
      "name": "python3",
      "display_name": "Python 3"
    },
    "language_info": {
      "name": "python"
    }
  },
  "cells": [
    {
      "cell_type": "markdown",
      "metadata": {
        "id": "view-in-github",
        "colab_type": "text"
      },
      "source": [
        "<a href=\"https://colab.research.google.com/github/brilliantfriezka/Machine-Learning/blob/main/Week11/Pooling.ipynb\" target=\"_parent\"><img src=\"https://colab.research.google.com/assets/colab-badge.svg\" alt=\"Open In Colab\"/></a>"
      ]
    },
    {
      "cell_type": "markdown",
      "source": [
        "Maximum Pooling and Average Pooling\n",
        "*   Nama : Brilliant Friezka Aina\n",
        "*   NIM : 1103194186\n",
        "\n"
      ],
      "metadata": {
        "id": "hAZwhRcPzjei"
      }
    },
    {
      "cell_type": "code",
      "execution_count": null,
      "metadata": {
        "id": "Cj4exKGAzccv"
      },
      "outputs": [],
      "source": [
        "import tensorflow as tf\n",
        "\n",
        "def pool2d(X, pool_size, mode='max'):\n",
        "    p_h, p_w = pool_size\n",
        "    Y = tf.Variable(tf.zeros((X.shape[0] - p_h + 1, X.shape[1] - p_w +1)))\n",
        "    for i in range(Y.shape[0]):\n",
        "        for j in range(Y.shape[1]):\n",
        "            if mode == 'max':\n",
        "                Y[i, j].assign(tf.reduce_max(X[i: i + p_h, j: j + p_w]))\n",
        "            elif mode =='avg':\n",
        "                Y[i, j].assign(tf.reduce_mean(X[i: i + p_h, j: j + p_w]))\n",
        "    return Y"
      ]
    },
    {
      "cell_type": "code",
      "source": [
        "X = tf.constant([[0.0, 1.0, 2.0], [3.0, 4.0, 5.0], [6.0, 7.0, 8.0]])\n",
        "pool2d(X, (2, 2))"
      ],
      "metadata": {
        "colab": {
          "base_uri": "https://localhost:8080/"
        },
        "id": "jJ-F3FxoztiV",
        "outputId": "3f459e07-3863-473f-c107-d3329237e895"
      },
      "execution_count": null,
      "outputs": [
        {
          "output_type": "execute_result",
          "data": {
            "text/plain": [
              "<tf.Variable 'Variable:0' shape=(2, 2) dtype=float32, numpy=\n",
              "array([[4., 5.],\n",
              "       [7., 8.]], dtype=float32)>"
            ]
          },
          "metadata": {},
          "execution_count": 2
        }
      ]
    },
    {
      "cell_type": "code",
      "source": [
        "pool2d(X, (2, 2), 'avg')"
      ],
      "metadata": {
        "colab": {
          "base_uri": "https://localhost:8080/"
        },
        "id": "kUA9mZhLzuva",
        "outputId": "9c8c4f85-9323-40a3-b0b1-c35cce3dbb1e"
      },
      "execution_count": null,
      "outputs": [
        {
          "output_type": "execute_result",
          "data": {
            "text/plain": [
              "<tf.Variable 'Variable:0' shape=(2, 2) dtype=float32, numpy=\n",
              "array([[2., 3.],\n",
              "       [5., 6.]], dtype=float32)>"
            ]
          },
          "metadata": {},
          "execution_count": 3
        }
      ]
    },
    {
      "cell_type": "markdown",
      "source": [
        "# Padding and Stride"
      ],
      "metadata": {
        "id": "EB3cjM_Rzv5z"
      }
    },
    {
      "cell_type": "code",
      "source": [
        "X = tf.reshape(tf.range(16, dtype=tf.float32), (1, 4, 4, 1))\n",
        "X"
      ],
      "metadata": {
        "colab": {
          "base_uri": "https://localhost:8080/"
        },
        "id": "Q6zdmPO9zvuc",
        "outputId": "c0e2f648-0abe-4462-b340-c1d29c838119"
      },
      "execution_count": null,
      "outputs": [
        {
          "output_type": "execute_result",
          "data": {
            "text/plain": [
              "<tf.Tensor: shape=(1, 4, 4, 1), dtype=float32, numpy=\n",
              "array([[[[ 0.],\n",
              "         [ 1.],\n",
              "         [ 2.],\n",
              "         [ 3.]],\n",
              "\n",
              "        [[ 4.],\n",
              "         [ 5.],\n",
              "         [ 6.],\n",
              "         [ 7.]],\n",
              "\n",
              "        [[ 8.],\n",
              "         [ 9.],\n",
              "         [10.],\n",
              "         [11.]],\n",
              "\n",
              "        [[12.],\n",
              "         [13.],\n",
              "         [14.],\n",
              "         [15.]]]], dtype=float32)>"
            ]
          },
          "metadata": {},
          "execution_count": 4
        }
      ]
    },
    {
      "cell_type": "code",
      "source": [
        "pool2d = tf.keras.layers.MaxPool2D(pool_size=[3, 3])\n",
        "pool2d(X)"
      ],
      "metadata": {
        "colab": {
          "base_uri": "https://localhost:8080/"
        },
        "id": "Y-lnv8k2z1Xc",
        "outputId": "e092117d-eed2-4615-8cd8-042baee8f064"
      },
      "execution_count": null,
      "outputs": [
        {
          "output_type": "execute_result",
          "data": {
            "text/plain": [
              "<tf.Tensor: shape=(1, 1, 1, 1), dtype=float32, numpy=array([[[[10.]]]], dtype=float32)>"
            ]
          },
          "metadata": {},
          "execution_count": 5
        }
      ]
    },
    {
      "cell_type": "code",
      "source": [
        "paddings = tf.constant([[0, 0], [1,0], [1,0], [0,0]])\n",
        "X_padded = tf.pad(X, paddings, \"CONSTANT\")\n",
        "pool2d = tf.keras.layers.MaxPool2D(pool_size=[3, 3], padding='valid',\n",
        "                                   strides=2)\n",
        "pool2d(X_padded)"
      ],
      "metadata": {
        "colab": {
          "base_uri": "https://localhost:8080/"
        },
        "id": "RSfxi129z20X",
        "outputId": "d5b299bd-9323-465c-8935-41bfd482bd63"
      },
      "execution_count": null,
      "outputs": [
        {
          "output_type": "execute_result",
          "data": {
            "text/plain": [
              "<tf.Tensor: shape=(1, 2, 2, 1), dtype=float32, numpy=\n",
              "array([[[[ 5.],\n",
              "         [ 7.]],\n",
              "\n",
              "        [[13.],\n",
              "         [15.]]]], dtype=float32)>"
            ]
          },
          "metadata": {},
          "execution_count": 6
        }
      ]
    },
    {
      "cell_type": "markdown",
      "source": [
        "# Multiple Channels"
      ],
      "metadata": {
        "id": "vvlfyHUXz4fb"
      }
    },
    {
      "cell_type": "code",
      "source": [
        "X = tf.concat([X, X + 1], 3)"
      ],
      "metadata": {
        "id": "T8ZY0-Ogz5ka"
      },
      "execution_count": null,
      "outputs": []
    },
    {
      "cell_type": "code",
      "source": [
        "paddings = tf.constant([[0, 0], [1,0], [1,0], [0,0]])\n",
        "X_padded = tf.pad(X, paddings, \"CONSTANT\")\n",
        "pool2d = tf.keras.layers.MaxPool2D(pool_size=[3, 3], padding='valid',\n",
        "                                   strides=2)\n",
        "pool2d(X_padded)"
      ],
      "metadata": {
        "colab": {
          "base_uri": "https://localhost:8080/"
        },
        "id": "VbQHBn0ez60A",
        "outputId": "64550747-51a0-480e-af6a-6c73c99378b8"
      },
      "execution_count": null,
      "outputs": [
        {
          "output_type": "execute_result",
          "data": {
            "text/plain": [
              "<tf.Tensor: shape=(1, 2, 2, 2), dtype=float32, numpy=\n",
              "array([[[[ 5.,  6.],\n",
              "         [ 7.,  8.]],\n",
              "\n",
              "        [[13., 14.],\n",
              "         [15., 16.]]]], dtype=float32)>"
            ]
          },
          "metadata": {},
          "execution_count": 8
        }
      ]
    }
  ]
}